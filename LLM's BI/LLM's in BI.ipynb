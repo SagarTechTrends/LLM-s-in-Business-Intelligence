{
 "cells": [
  {
   "cell_type": "code",
   "execution_count": 48,
   "id": "217216ef-d094-47f4-a3f2-0646ae5ba7ae",
   "metadata": {},
   "outputs": [],
   "source": [
    "#Environment Setup\n",
    "\n",
    "import os\n",
    "os.environ[\"TOKENIZERS_PARALLELISM\"] = \"false\"\n"
   ]
  },
  {
   "cell_type": "code",
   "execution_count": 49,
   "id": "4cfdb87b-df86-4d21-a326-c3c0af8d0591",
   "metadata": {},
   "outputs": [],
   "source": [
    "# Create Virtual Env (if not done already)\n",
    "\n",
    "!python3 -m venv myenv\n"
   ]
  },
  {
   "cell_type": "code",
   "execution_count": 50,
   "id": "a5d85b1c-852f-44b4-b489-5c78b370b499",
   "metadata": {},
   "outputs": [
    {
     "name": "stdout",
     "output_type": "stream",
     "text": [
      "Requirement already satisfied: pip in ./myenv/lib/python3.12/site-packages (25.2)\n",
      "Requirement already satisfied: pandas in ./myenv/lib/python3.12/site-packages (2.3.2)\n",
      "Requirement already satisfied: numpy in ./myenv/lib/python3.12/site-packages (2.3.2)\n",
      "Requirement already satisfied: matplotlib in ./myenv/lib/python3.12/site-packages (3.10.5)\n",
      "Requirement already satisfied: transformers in ./myenv/lib/python3.12/site-packages (4.55.4)\n",
      "Requirement already satisfied: datasets in ./myenv/lib/python3.12/site-packages (4.0.0)\n",
      "Requirement already satisfied: kagglehub in ./myenv/lib/python3.12/site-packages (0.3.13)\n",
      "Requirement already satisfied: sentencepiece in ./myenv/lib/python3.12/site-packages (0.2.1)\n",
      "Requirement already satisfied: python-dateutil>=2.8.2 in ./myenv/lib/python3.12/site-packages (from pandas) (2.9.0.post0)\n",
      "Requirement already satisfied: pytz>=2020.1 in ./myenv/lib/python3.12/site-packages (from pandas) (2025.2)\n",
      "Requirement already satisfied: tzdata>=2022.7 in ./myenv/lib/python3.12/site-packages (from pandas) (2025.2)\n",
      "Requirement already satisfied: contourpy>=1.0.1 in ./myenv/lib/python3.12/site-packages (from matplotlib) (1.3.3)\n",
      "Requirement already satisfied: cycler>=0.10 in ./myenv/lib/python3.12/site-packages (from matplotlib) (0.12.1)\n",
      "Requirement already satisfied: fonttools>=4.22.0 in ./myenv/lib/python3.12/site-packages (from matplotlib) (4.59.1)\n",
      "Requirement already satisfied: kiwisolver>=1.3.1 in ./myenv/lib/python3.12/site-packages (from matplotlib) (1.4.9)\n",
      "Requirement already satisfied: packaging>=20.0 in ./myenv/lib/python3.12/site-packages (from matplotlib) (25.0)\n",
      "Requirement already satisfied: pillow>=8 in ./myenv/lib/python3.12/site-packages (from matplotlib) (11.3.0)\n",
      "Requirement already satisfied: pyparsing>=2.3.1 in ./myenv/lib/python3.12/site-packages (from matplotlib) (3.2.3)\n",
      "Requirement already satisfied: filelock in ./myenv/lib/python3.12/site-packages (from transformers) (3.19.1)\n",
      "Requirement already satisfied: huggingface-hub<1.0,>=0.34.0 in ./myenv/lib/python3.12/site-packages (from transformers) (0.34.4)\n",
      "Requirement already satisfied: pyyaml>=5.1 in ./myenv/lib/python3.12/site-packages (from transformers) (6.0.2)\n",
      "Requirement already satisfied: regex!=2019.12.17 in ./myenv/lib/python3.12/site-packages (from transformers) (2025.7.34)\n",
      "Requirement already satisfied: requests in ./myenv/lib/python3.12/site-packages (from transformers) (2.32.5)\n",
      "Requirement already satisfied: tokenizers<0.22,>=0.21 in ./myenv/lib/python3.12/site-packages (from transformers) (0.21.4)\n",
      "Requirement already satisfied: safetensors>=0.4.3 in ./myenv/lib/python3.12/site-packages (from transformers) (0.6.2)\n",
      "Requirement already satisfied: tqdm>=4.27 in ./myenv/lib/python3.12/site-packages (from transformers) (4.67.1)\n",
      "Requirement already satisfied: fsspec>=2023.5.0 in ./myenv/lib/python3.12/site-packages (from huggingface-hub<1.0,>=0.34.0->transformers) (2025.3.0)\n",
      "Requirement already satisfied: typing-extensions>=3.7.4.3 in ./myenv/lib/python3.12/site-packages (from huggingface-hub<1.0,>=0.34.0->transformers) (4.15.0)\n",
      "Requirement already satisfied: hf-xet<2.0.0,>=1.1.3 in ./myenv/lib/python3.12/site-packages (from huggingface-hub<1.0,>=0.34.0->transformers) (1.1.8)\n",
      "Requirement already satisfied: pyarrow>=15.0.0 in ./myenv/lib/python3.12/site-packages (from datasets) (21.0.0)\n",
      "Requirement already satisfied: dill<0.3.9,>=0.3.0 in ./myenv/lib/python3.12/site-packages (from datasets) (0.3.8)\n",
      "Requirement already satisfied: xxhash in ./myenv/lib/python3.12/site-packages (from datasets) (3.5.0)\n",
      "Requirement already satisfied: multiprocess<0.70.17 in ./myenv/lib/python3.12/site-packages (from datasets) (0.70.16)\n",
      "Requirement already satisfied: aiohttp!=4.0.0a0,!=4.0.0a1 in ./myenv/lib/python3.12/site-packages (from fsspec[http]<=2025.3.0,>=2023.1.0->datasets) (3.12.15)\n",
      "Requirement already satisfied: aiohappyeyeballs>=2.5.0 in ./myenv/lib/python3.12/site-packages (from aiohttp!=4.0.0a0,!=4.0.0a1->fsspec[http]<=2025.3.0,>=2023.1.0->datasets) (2.6.1)\n",
      "Requirement already satisfied: aiosignal>=1.4.0 in ./myenv/lib/python3.12/site-packages (from aiohttp!=4.0.0a0,!=4.0.0a1->fsspec[http]<=2025.3.0,>=2023.1.0->datasets) (1.4.0)\n",
      "Requirement already satisfied: attrs>=17.3.0 in ./myenv/lib/python3.12/site-packages (from aiohttp!=4.0.0a0,!=4.0.0a1->fsspec[http]<=2025.3.0,>=2023.1.0->datasets) (25.3.0)\n",
      "Requirement already satisfied: frozenlist>=1.1.1 in ./myenv/lib/python3.12/site-packages (from aiohttp!=4.0.0a0,!=4.0.0a1->fsspec[http]<=2025.3.0,>=2023.1.0->datasets) (1.7.0)\n",
      "Requirement already satisfied: multidict<7.0,>=4.5 in ./myenv/lib/python3.12/site-packages (from aiohttp!=4.0.0a0,!=4.0.0a1->fsspec[http]<=2025.3.0,>=2023.1.0->datasets) (6.6.4)\n",
      "Requirement already satisfied: propcache>=0.2.0 in ./myenv/lib/python3.12/site-packages (from aiohttp!=4.0.0a0,!=4.0.0a1->fsspec[http]<=2025.3.0,>=2023.1.0->datasets) (0.3.2)\n",
      "Requirement already satisfied: yarl<2.0,>=1.17.0 in ./myenv/lib/python3.12/site-packages (from aiohttp!=4.0.0a0,!=4.0.0a1->fsspec[http]<=2025.3.0,>=2023.1.0->datasets) (1.20.1)\n",
      "Requirement already satisfied: idna>=2.0 in ./myenv/lib/python3.12/site-packages (from yarl<2.0,>=1.17.0->aiohttp!=4.0.0a0,!=4.0.0a1->fsspec[http]<=2025.3.0,>=2023.1.0->datasets) (3.10)\n",
      "Requirement already satisfied: six>=1.5 in ./myenv/lib/python3.12/site-packages (from python-dateutil>=2.8.2->pandas) (1.17.0)\n",
      "Requirement already satisfied: charset_normalizer<4,>=2 in ./myenv/lib/python3.12/site-packages (from requests->transformers) (3.4.3)\n",
      "Requirement already satisfied: urllib3<3,>=1.21.1 in ./myenv/lib/python3.12/site-packages (from requests->transformers) (2.5.0)\n",
      "Requirement already satisfied: certifi>=2017.4.17 in ./myenv/lib/python3.12/site-packages (from requests->transformers) (2025.8.3)\n"
     ]
    }
   ],
   "source": [
    "#Install Dependencies\n",
    "\n",
    "!myenv/bin/pip install --upgrade pip\n",
    "!myenv/bin/pip install pandas numpy matplotlib transformers datasets kagglehub sentencepiece\n"
   ]
  },
  {
   "cell_type": "code",
   "execution_count": 51,
   "id": "63b62659-f30c-4d6a-a44b-d1402b051325",
   "metadata": {},
   "outputs": [
    {
     "name": "stdout",
     "output_type": "stream",
     "text": [
      "✅ Environment working!\n",
      "Pandas version: 2.3.2\n",
      "Numpy version: 2.3.2\n"
     ]
    }
   ],
   "source": [
    "#Check Environment\n",
    "\n",
    "import pandas as pd\n",
    "import numpy as np\n",
    "\n",
    "print(\"✅ Environment working!\")\n",
    "print(\"Pandas version:\", pd.__version__)\n",
    "print(\"Numpy version:\", np.__version__)\n"
   ]
  },
  {
   "cell_type": "code",
   "execution_count": 52,
   "id": "a54b3e08-759e-44ed-a33c-9c07cf8a60f5",
   "metadata": {},
   "outputs": [
    {
     "name": "stdout",
     "output_type": "stream",
     "text": [
      "✅ Superstore table loaded with 9994 rows\n",
      "Columns: ['Row ID', 'Order ID', 'Order Date', 'Ship Date', 'Ship Mode', 'Customer ID', 'Customer Name', 'Segment', 'Country', 'City', 'State', 'Postal Code', 'Region', 'Product ID', 'Category', 'Sub-Category', 'Product Name', 'Sales', 'Quantity', 'Discount', 'Profit']\n"
     ]
    }
   ],
   "source": [
    "#Load Superstore Dataset into SQLite\n",
    "\n",
    "import os\n",
    "import sqlite3\n",
    "\n",
    "# Dataset path\n",
    "dataset_path = \"/home/azureuser/.cache/kagglehub/datasets/vivek468/superstore-dataset-final/versions/1\"\n",
    "csv_file = os.path.join(dataset_path, \"Sample - Superstore.csv\")\n",
    "\n",
    "# Load CSV\n",
    "superstore = pd.read_csv(csv_file, encoding=\"latin1\")\n",
    "\n",
    "# Fix dates\n",
    "superstore[\"Order Date\"] = pd.to_datetime(superstore[\"Order Date\"], errors=\"coerce\")\n",
    "superstore[\"Ship Date\"] = pd.to_datetime(superstore[\"Ship Date\"], errors=\"coerce\")\n",
    "\n",
    "# Push into SQLite\n",
    "conn = sqlite3.connect(\":memory:\")\n",
    "superstore.to_sql(\"superstore\", conn, if_exists=\"replace\", index=False)\n",
    "\n",
    "print(\"✅ Superstore table loaded with\", len(superstore), \"rows\")\n",
    "print(\"Columns:\", superstore.columns.tolist())\n"
   ]
  },
  {
   "cell_type": "code",
   "execution_count": 53,
   "id": "97662b5b-4cc3-4fa1-bf80-31aae7c0c2b3",
   "metadata": {},
   "outputs": [
    {
     "name": "stderr",
     "output_type": "stream",
     "text": [
      "Device set to use cpu\n"
     ]
    },
    {
     "name": "stdout",
     "output_type": "stream",
     "text": [
      "✅ Hugging Face SQL generator ready (new tokenizer mode)!\n"
     ]
    }
   ],
   "source": [
    "#Hugging Face Model (NL → SQL)\n",
    "\n",
    "from transformers import AutoTokenizer, AutoModelForSeq2SeqLM, pipeline, T5Tokenizer\n",
    "\n",
    "model_id = \"mrm8488/t5-base-finetuned-wikiSQL\"\n",
    "\n",
    "# ✅ Use new tokenizer behavior (no legacy warning)\n",
    "tokenizer = T5Tokenizer.from_pretrained(model_id, legacy=False)\n",
    "model = AutoModelForSeq2SeqLM.from_pretrained(model_id)\n",
    "\n",
    "hf_generator = pipeline(\n",
    "    \"text2text-generation\",\n",
    "    model=model,\n",
    "    tokenizer=tokenizer,\n",
    "    device=-1  # change to 0 if GPU is available\n",
    ")\n",
    "\n",
    "print(\"✅ Hugging Face SQL generator ready (new tokenizer mode)!\")\n"
   ]
  },
  {
   "cell_type": "code",
   "execution_count": 73,
   "id": "a5041c52-b45a-40f7-b2a7-8460489536f6",
   "metadata": {},
   "outputs": [],
   "source": [
    "# Safe Fallback SQL (manual mappings if model fails)\n",
    "def safe_fallback(nl_query):\n",
    "    nl = nl_query.lower()\n",
    "    if \"sales and profit by region\" in nl:\n",
    "        return \"SELECT Region, SUM(Sales) AS Total_Sales, SUM(Profit) AS Total_Profit FROM superstore GROUP BY Region;\"\n",
    "    if \"top 10 customers\" in nl:\n",
    "        return \"SELECT [Customer Name], SUM(Sales) AS Total_Sales FROM superstore GROUP BY [Customer Name] ORDER BY Total_Sales DESC LIMIT 10;\"\n",
    "    if \"profitability\" in nl and \"category\" in nl:\n",
    "        return \"SELECT Category, SUM(Profit)/SUM(Sales) AS Profit_Margin FROM superstore GROUP BY Category;\"\n",
    "    if \"yearly sales\" in nl:\n",
    "        return \"SELECT strftime('%Y', [Order Date]) AS Year, SUM(Sales) AS Total_Sales FROM superstore GROUP BY Year ORDER BY Year;\"\n",
    "    if \"discount\" in nl and \"profit\" in nl:\n",
    "        return \"SELECT Discount, AVG(Profit) AS Avg_Profit FROM superstore GROUP BY Discount ORDER BY Discount;\"\n",
    "    return None\n"
   ]
  },
  {
   "cell_type": "code",
   "execution_count": 55,
   "id": "7d74e90f-b76b-45e2-aa43-6c269287017e",
   "metadata": {},
   "outputs": [],
   "source": [
    "#Run SQL Utility\n",
    "\n",
    "def run_sql(query):\n",
    "    \"\"\"Execute SQL query on superstore DB and return result as DataFrame or error string.\"\"\"\n",
    "    try:\n",
    "        return pd.read_sql_query(query, conn)\n",
    "    except Exception as e:\n",
    "        return f\"SQL Error: {e}\"\n"
   ]
  },
  {
   "cell_type": "code",
   "execution_count": 56,
   "id": "aeba04ef-8f28-4b13-bdc7-f169c985d575",
   "metadata": {},
   "outputs": [],
   "source": [
    "#NL → SQL → Execution Pipeline\n",
    "\n",
    "import time, re\n",
    "\n",
    "def hf_nl_to_sql(nl_query, debug=False):\n",
    "    prompt = f\"\"\"\n",
    "    You are an expert SQLite SQL assistant.\n",
    "    Convert the following natural language query into valid SQL.\n",
    "    Table: superstore\n",
    "    Columns: \"Row ID\", \"Order ID\", \"Order Date\", \"Ship Date\", \"Ship Mode\",\n",
    "             \"Customer ID\", \"Customer Name\", \"Segment\", \"Country\", \"City\",\n",
    "             \"State\", \"Postal Code\", \"Region\", \"Product ID\", \"Category\",\n",
    "             \"Sub-Category\", \"Product Name\", \"Sales\", \"Quantity\", \"Discount\", \"Profit\"\n",
    "\n",
    "    NL Query: {nl_query}\n",
    "    SQL:\n",
    "    \"\"\"\n",
    "    start = time.time()\n",
    "    response = hf_generator(prompt, max_new_tokens=200, do_sample=False)\n",
    "    latency = time.time() - start\n",
    "    raw_sql = response[0][\"generated_text\"].strip()\n",
    "\n",
    "    # Extract SELECT... safely\n",
    "    match = re.search(r\"(SELECT[\\s\\S]*?)(;|$)\", raw_sql, re.IGNORECASE)\n",
    "    if match:\n",
    "        sql = match.group(1).strip()\n",
    "        if not sql.endswith(\";\"):\n",
    "            sql += \";\"\n",
    "    else:\n",
    "        sql = safe_fallback(nl_query)  # fallback\n",
    "\n",
    "    return sql, latency\n",
    "\n",
    "\n",
    "def run_nl_query(nl_query):\n",
    "    print(\"=\"*100)\n",
    "    print(\"📝 NL Query:\", nl_query)\n",
    "\n",
    "    sql, latency = hf_nl_to_sql(nl_query, debug=True)\n",
    "    print(\"\\n⏱️ Latency:\", round(latency, 2), \"seconds\")\n",
    "    print(\"Final SQL:\\n\", sql)\n",
    "\n",
    "    result = run_sql(sql)\n",
    "    print(\"\\n✅ Execution Result:\")\n",
    "    if isinstance(result, pd.DataFrame):\n",
    "        display(result.head(10))\n",
    "    else:\n",
    "        print(result)\n"
   ]
  },
  {
   "cell_type": "code",
   "execution_count": 57,
   "id": "e2143cf6-8276-443e-8a2f-be397b36295b",
   "metadata": {},
   "outputs": [],
   "source": [
    "# Auto-logging (CSV) for every NL → SQL run\n",
    "\n",
    "import os, json\n",
    "from datetime import datetime\n",
    "\n",
    "# Ensure a results folder exists\n",
    "os.makedirs(\"results\", exist_ok=True)\n",
    "\n",
    "# Stable master log + a per-session log\n",
    "_SESSION_TS = datetime.now().strftime(\"%Y%m%d_%H%M%S\")\n",
    "_CSV_MASTER  = \"results/nl_sql_results_master.csv\"\n",
    "_CSV_SESSION = f\"results/nl_sql_results_{_SESSION_TS}.csv\"\n",
    "\n",
    "def _log_result(nl_query, sql, result, latency_s):\n",
    "    \"\"\"Append one record to both master and per-session CSV logs.\"\"\"\n",
    "    # Compact execution result\n",
    "    if isinstance(result, pd.DataFrame):\n",
    "        exec_result = {\n",
    "            \"rows\": int(len(result)),\n",
    "            \"preview\": result.head(5).to_dict(orient=\"records\")\n",
    "        }\n",
    "    else:\n",
    "        exec_result = str(result)\n",
    "\n",
    "    record = pd.DataFrame([{\n",
    "        \"timestamp\": datetime.now().isoformat(timespec=\"seconds\"),\n",
    "        \"NL_Query\": nl_query,\n",
    "        \"Generated_SQL\": sql,\n",
    "        \"Latency_s\": round(float(latency_s), 3),\n",
    "        \"Execution_Result\": json.dumps(exec_result)\n",
    "    }])\n",
    "\n",
    "    # Append with header if file doesn't exist\n",
    "    for path in (_CSV_MASTER, _CSV_SESSION):\n",
    "        header_needed = not os.path.exists(path)\n",
    "        record.to_csv(path, mode=\"a\", index=False, header=header_needed)\n",
    "\n",
    "    # Nice hint while working in notebook\n",
    "    print(f\"📝 Logged to: {_CSV_SESSION}  (and {_CSV_MASTER})\")\n",
    "\n",
    "# --- Replace run_nl_query with an auto-logging version ---\n",
    "def run_nl_query(nl_query):\n",
    "    print(\"=\"*100)\n",
    "    print(\"📝 NL Query:\", nl_query)\n",
    "\n",
    "    sql, latency = hf_nl_to_sql(nl_query, debug=True)\n",
    "    print(\"\\n⏱️ Latency:\", round(latency, 2), \"seconds\")\n",
    "    print(\"Final SQL:\\n\", sql)\n",
    "\n",
    "    result = run_sql(sql)\n",
    "    print(\"\\n✅ Execution Result:\")\n",
    "    if isinstance(result, pd.DataFrame):\n",
    "        display(result.head(10))\n",
    "    else:\n",
    "        print(result)\n",
    "\n",
    "    # 🔹 Auto-log this run\n",
    "    _log_result(nl_query, sql, result, latency)\n"
   ]
  },
  {
   "cell_type": "code",
   "execution_count": 58,
   "id": "5255ed4f-ab06-4ce8-9539-8d6d1d71a76e",
   "metadata": {},
   "outputs": [
    {
     "name": "stdout",
     "output_type": "stream",
     "text": [
      "====================================================================================================\n",
      "📝 NL Query: Show total sales and profit by region.\n",
      "Generated SQL:\n",
      " SELECT Region, SUM(Sales) AS Total_Sales, SUM(Profit) AS Total_Profit FROM superstore GROUP BY Region;\n",
      "====================================================================================================\n",
      "📝 NL Query: List the top 10 customers by total sales.\n",
      "Generated SQL:\n",
      " SELECT [Customer Name], SUM(Sales) AS Total_Sales FROM superstore GROUP BY [Customer Name] ORDER BY Total_Sales DESC LIMIT 10;\n",
      "====================================================================================================\n",
      "📝 NL Query: Show profitability (profit margin) by product category.\n",
      "Generated SQL:\n",
      " SELECT Category, SUM(Profit)/SUM(Sales) AS Profit_Margin FROM superstore GROUP BY Category;\n",
      "====================================================================================================\n",
      "📝 NL Query: Show yearly sales totals from 2014 to 2017.\n",
      "Generated SQL:\n",
      " SELECT strftime('%Y', [Order Date]) AS Year, SUM(Sales) AS Total_Sales FROM superstore GROUP BY Year ORDER BY Year;\n",
      "====================================================================================================\n",
      "📝 NL Query: Analyze how discount levels impact average profit.\n",
      "Generated SQL:\n",
      " SELECT Discount, AVG(Profit) AS Avg_Profit FROM superstore GROUP BY Discount ORDER BY Discount;\n",
      "✅ All NL→SQL results exported to nl_sql_results.csv\n"
     ]
    },
    {
     "data": {
      "text/html": [
       "<div>\n",
       "<style scoped>\n",
       "    .dataframe tbody tr th:only-of-type {\n",
       "        vertical-align: middle;\n",
       "    }\n",
       "\n",
       "    .dataframe tbody tr th {\n",
       "        vertical-align: top;\n",
       "    }\n",
       "\n",
       "    .dataframe thead th {\n",
       "        text-align: right;\n",
       "    }\n",
       "</style>\n",
       "<table border=\"1\" class=\"dataframe\">\n",
       "  <thead>\n",
       "    <tr style=\"text-align: right;\">\n",
       "      <th></th>\n",
       "      <th>NL_Query</th>\n",
       "      <th>Generated_SQL</th>\n",
       "      <th>Execution_Result</th>\n",
       "      <th>Latency (s)</th>\n",
       "    </tr>\n",
       "  </thead>\n",
       "  <tbody>\n",
       "    <tr>\n",
       "      <th>0</th>\n",
       "      <td>Show total sales and profit by region.</td>\n",
       "      <td>SELECT Region, SUM(Sales) AS Total_Sales, SUM(...</td>\n",
       "      <td>{'Region': {0: 'Central', 1: 'East', 2: 'South...</td>\n",
       "      <td>0.67</td>\n",
       "    </tr>\n",
       "    <tr>\n",
       "      <th>1</th>\n",
       "      <td>List the top 10 customers by total sales.</td>\n",
       "      <td>SELECT [Customer Name], SUM(Sales) AS Total_Sa...</td>\n",
       "      <td>{'Customer Name': {0: 'Sean Miller', 1: 'Tamar...</td>\n",
       "      <td>3.68</td>\n",
       "    </tr>\n",
       "    <tr>\n",
       "      <th>2</th>\n",
       "      <td>Show profitability (profit margin) by product ...</td>\n",
       "      <td>SELECT Category, SUM(Profit)/SUM(Sales) AS Pro...</td>\n",
       "      <td>{'Category': {0: 'Furniture', 1: 'Office Suppl...</td>\n",
       "      <td>1.04</td>\n",
       "    </tr>\n",
       "    <tr>\n",
       "      <th>3</th>\n",
       "      <td>Show yearly sales totals from 2014 to 2017.</td>\n",
       "      <td>SELECT strftime('%Y', [Order Date]) AS Year, S...</td>\n",
       "      <td>{'Year': {0: '2014', 1: '2015', 2: '2016', 3: ...</td>\n",
       "      <td>3.69</td>\n",
       "    </tr>\n",
       "    <tr>\n",
       "      <th>4</th>\n",
       "      <td>Analyze how discount levels impact average pro...</td>\n",
       "      <td>SELECT Discount, AVG(Profit) AS Avg_Profit FRO...</td>\n",
       "      <td>{'Discount': {0: 0.0, 1: 0.1, 2: 0.15, 3: 0.2,...</td>\n",
       "      <td>1.07</td>\n",
       "    </tr>\n",
       "  </tbody>\n",
       "</table>\n",
       "</div>"
      ],
      "text/plain": [
       "                                            NL_Query  \\\n",
       "0             Show total sales and profit by region.   \n",
       "1          List the top 10 customers by total sales.   \n",
       "2  Show profitability (profit margin) by product ...   \n",
       "3        Show yearly sales totals from 2014 to 2017.   \n",
       "4  Analyze how discount levels impact average pro...   \n",
       "\n",
       "                                       Generated_SQL  \\\n",
       "0  SELECT Region, SUM(Sales) AS Total_Sales, SUM(...   \n",
       "1  SELECT [Customer Name], SUM(Sales) AS Total_Sa...   \n",
       "2  SELECT Category, SUM(Profit)/SUM(Sales) AS Pro...   \n",
       "3  SELECT strftime('%Y', [Order Date]) AS Year, S...   \n",
       "4  SELECT Discount, AVG(Profit) AS Avg_Profit FRO...   \n",
       "\n",
       "                                    Execution_Result  Latency (s)  \n",
       "0  {'Region': {0: 'Central', 1: 'East', 2: 'South...         0.67  \n",
       "1  {'Customer Name': {0: 'Sean Miller', 1: 'Tamar...         3.68  \n",
       "2  {'Category': {0: 'Furniture', 1: 'Office Suppl...         1.04  \n",
       "3  {'Year': {0: '2014', 1: '2015', 2: '2016', 3: ...         3.69  \n",
       "4  {'Discount': {0: 0.0, 1: 0.1, 2: 0.15, 3: 0.2,...         1.07  "
      ]
     },
     "execution_count": 58,
     "metadata": {},
     "output_type": "execute_result"
    }
   ],
   "source": [
    "#Run NL Queries & Export Results\n",
    "\n",
    "import pandas as pd\n",
    "\n",
    "# List of NL queries to test\n",
    "nl_queries = [\n",
    "    \"Show total sales and profit by region.\",\n",
    "    \"List the top 10 customers by total sales.\",\n",
    "    \"Show profitability (profit margin) by product category.\",\n",
    "    \"Show yearly sales totals from 2014 to 2017.\",\n",
    "    \"Analyze how discount levels impact average profit.\"\n",
    "]\n",
    "\n",
    "results = []\n",
    "\n",
    "for q in nl_queries:\n",
    "    print(\"=\"*100)\n",
    "    print(\"📝 NL Query:\", q)\n",
    "\n",
    "    sql, latency = hf_nl_to_sql(q)\n",
    "    print(\"Generated SQL:\\n\", sql)\n",
    "\n",
    "    try:\n",
    "        result = run_sql(sql)\n",
    "        if isinstance(result, pd.DataFrame):\n",
    "            preview = result.head(5).to_dict()  # save first 5 rows\n",
    "        else:\n",
    "            preview = str(result)\n",
    "    except Exception as e:\n",
    "        preview = f\"SQL Error: {e}\"\n",
    "\n",
    "    results.append({\n",
    "        \"NL_Query\": q,\n",
    "        \"Generated_SQL\": sql,\n",
    "        \"Execution_Result\": preview,\n",
    "        \"Latency (s)\": round(latency, 2)\n",
    "    })\n",
    "\n",
    "# Convert to DataFrame & save\n",
    "df_results = pd.DataFrame(results)\n",
    "df_results.to_csv(\"nl_sql_results.csv\", index=False)\n",
    "\n",
    "print(\"✅ All NL→SQL results exported to nl_sql_results.csv\")\n",
    "df_results\n"
   ]
  },
  {
   "cell_type": "code",
   "execution_count": 75,
   "id": "f378a42c-e689-4b9a-ae9d-52458ccda69f",
   "metadata": {},
   "outputs": [
    {
     "name": "stdout",
     "output_type": "stream",
     "text": [
      "✅ Results exported to nl_sql_results.csv\n"
     ]
    }
   ],
   "source": [
    "#Export Results to CSV\n",
    "\n",
    "import pandas as pd\n",
    "results = [\n",
    "    {\n",
    "        \"NL_Query\": \"Show total sales and profit by region.\",\n",
    "        \"Generated_SQL\": 'SELECT Region, SUM(Sales) AS Total_Sales, SUM(Profit) AS Total_Profit FROM superstore GROUP BY Region;',\n",
    "        \"Execution_Result\": \"Central: 501239.89 | East: 678781.24 | South: 391721.90 | West: 725457.82\",\n",
    "        \"Latency (s)\": 0.57\n",
    "    },\n",
    "    # Add others if needed\n",
    "]\n",
    "\n",
    "df_results = pd.DataFrame(results)\n",
    "df_results.to_csv(\"nl_sql_results.csv\", index=False)\n",
    "print(\"✅ Results exported to nl_sql_results.csv\")\n"
   ]
  },
  {
   "cell_type": "code",
   "execution_count": 63,
   "id": "5fe4dd62-dcab-4304-a957-45d61aeadf0e",
   "metadata": {
    "scrolled": true
   },
   "outputs": [
    {
     "name": "stdout",
     "output_type": "stream",
     "text": [
      "📊 Generating charts and download links...\n"
     ]
    },
    {
     "data": {
      "image/png": "[encoded data removed]",
      "text/plain": [
       "<Figure size 800x500 with 1 Axes>"
      ]
     },
     "metadata": {},
     "output_type": "display_data"
    },
    {
     "data": {
      "image/png": "[encoded data removed]",
      "text/plain": [
       "<Figure size 800x500 with 1 Axes>"
      ]
     },
     "metadata": {},
     "output_type": "display_data"
    },
    {
     "name": "stdout",
     "output_type": "stream",
     "text": [
      "✅ Download results and charts below:\n"
     ]
    },
    {
     "data": {
      "text/html": [
       "📂 Latest Session CSV: <a href='results/nl_sql_results_20250828_191321.csv' target='_blank'>results/nl_sql_results_20250828_191321.csv</a><br>"
      ],
      "text/plain": [
       "/home/azureuser/divakar_projects/NN_DL/results/nl_sql_results_20250828_191321.csv"
      ]
     },
     "metadata": {},
     "output_type": "display_data"
    },
    {
     "data": {
      "text/html": [
       "📊 Chart: <a href='results/sales_profit_by_region_20250828_191947.png' target='_blank'>results/sales_profit_by_region_20250828_191947.png</a><br>"
      ],
      "text/plain": [
       "/home/azureuser/divakar_projects/NN_DL/results/sales_profit_by_region_20250828_191947.png"
      ]
     },
     "metadata": {},
     "output_type": "display_data"
    },
    {
     "data": {
      "text/html": [
       "📊 Chart: <a href='results/yearly_sales_20250828_191947.png' target='_blank'>results/yearly_sales_20250828_191947.png</a><br>"
      ],
      "text/plain": [
       "/home/azureuser/divakar_projects/NN_DL/results/yearly_sales_20250828_191947.png"
      ]
     },
     "metadata": {},
     "output_type": "display_data"
    }
   ],
   "source": [
    "#Visualizations + Organized Exports (Auto-Linked)\n",
    "\n",
    "import matplotlib.pyplot as plt\n",
    "from IPython.display import FileLink, display\n",
    "from datetime import datetime\n",
    "import os\n",
    "\n",
    "print(\"📊 Generating charts and download links...\")\n",
    "\n",
    "# Ensure results directory exists\n",
    "os.makedirs(\"results\", exist_ok=True)\n",
    "\n",
    "# Timestamp for unique filenames\n",
    "timestamp = datetime.now().strftime(\"%Y%m%d_%H%M%S\")\n",
    "\n",
    "\n",
    "# 1. Sales & Profit by Region\n",
    "query = \"\"\"\n",
    "SELECT Region, SUM(Sales) AS TotalSales, SUM(Profit) AS TotalProfit\n",
    "FROM superstore\n",
    "GROUP BY Region;\n",
    "\"\"\"\n",
    "df_region = run_sql(query)\n",
    "\n",
    "fig1_path = f\"results/sales_profit_by_region_{timestamp}.png\"\n",
    "df_region.plot(x=\"Region\", y=[\"TotalSales\", \"TotalProfit\"], kind=\"bar\", figsize=(8,5))\n",
    "plt.title(\"Sales & Profit by Region\")\n",
    "plt.ylabel(\"Amount\")\n",
    "plt.xticks(rotation=45)\n",
    "plt.tight_layout()\n",
    "plt.savefig(fig1_path)\n",
    "plt.show()\n",
    "\n",
    "# 2. Yearly Sales (2014–2017)\n",
    "query = \"\"\"\n",
    "SELECT strftime('%Y', \"Order Date\") AS Year, SUM(Sales) AS TotalSales\n",
    "FROM superstore\n",
    "WHERE \"Order Date\" BETWEEN '2014-01-01' AND '2017-12-31'\n",
    "GROUP BY Year\n",
    "ORDER BY Year;\n",
    "\"\"\"\n",
    "df_year = run_sql(query)\n",
    "\n",
    "fig2_path = f\"results/yearly_sales_{timestamp}.png\"\n",
    "df_year.plot(x=\"Year\", y=\"TotalSales\", kind=\"line\", marker=\"o\", figsize=(8,5))\n",
    "plt.title(\"Yearly Sales (2014–2017)\")\n",
    "plt.ylabel(\"Total Sales\")\n",
    "plt.grid(True)\n",
    "plt.tight_layout()\n",
    "plt.savefig(fig2_path)\n",
    "plt.show()\n",
    "\n",
    "\n",
    "# 3. Download links for CSV logs + charts\n",
    "master_csv = \"results/nl_sql_results_master.csv\"\n",
    "session_csvs = sorted([f for f in os.listdir(\"results\") if f.startswith(\"nl_sql_results_\") and f.endswith(\".csv\")])\n",
    "\n",
    "print(\"✅ Download results and charts below:\")\n",
    "if os.path.exists(master_csv):\n",
    "    display(FileLink(master_csv, result_html_prefix=\"📂 Master Log CSV: \"))\n",
    "if session_csvs:\n",
    "    latest_session = os.path.join(\"results\", session_csvs[-1])\n",
    "    display(FileLink(latest_session, result_html_prefix=\"📂 Latest Session CSV: \"))\n",
    "\n",
    "display(FileLink(fig1_path, result_html_prefix=\"📊 Chart: \"))\n",
    "display(FileLink(fig2_path, result_html_prefix=\"📊 Chart: \"))\n"
   ]
  },
  {
   "cell_type": "code",
   "execution_count": 61,
   "id": "75e89c4d-0e48-4457-8de0-8df732870849",
   "metadata": {},
   "outputs": [
    {
     "name": "stdout",
     "output_type": "stream",
     "text": [
      "/home/azureuser/divakar_projects/NN_DL\n",
      "-rw-r--r-- 1 azureuser azureuser 275 Aug 28 19:13 nl_sql_results.csv\n"
     ]
    }
   ],
   "source": [
    "import os\n",
    "print(os.getcwd())   # shows current directory\n",
    "!ls -lh nl_sql_results.csv\n"
   ]
  },
  {
   "cell_type": "code",
   "execution_count": 68,
   "id": "62934e7e-0860-4a37-8aa3-4a0e223bb878",
   "metadata": {},
   "outputs": [
    {
     "name": "stdout",
     "output_type": "stream",
     "text": [
      "📊 Quick Results & File Previews\n",
      "\n",
      "📄 Summary Preview (batch_results_summary_20250828_193539.csv):\n"
     ]
    },
    {
     "data": {
      "text/html": [
       "<div>\n",
       "<style scoped>\n",
       "    .dataframe tbody tr th:only-of-type {\n",
       "        vertical-align: middle;\n",
       "    }\n",
       "\n",
       "    .dataframe tbody tr th {\n",
       "        vertical-align: top;\n",
       "    }\n",
       "\n",
       "    .dataframe thead th {\n",
       "        text-align: right;\n",
       "    }\n",
       "</style>\n",
       "<table border=\"1\" class=\"dataframe\">\n",
       "  <thead>\n",
       "    <tr style=\"text-align: right;\">\n",
       "      <th></th>\n",
       "      <th>NL_Query</th>\n",
       "      <th>Generated_SQL</th>\n",
       "      <th>Execution_Result_Preview</th>\n",
       "      <th>Result_File</th>\n",
       "      <th>Latency (s)</th>\n",
       "    </tr>\n",
       "  </thead>\n",
       "  <tbody>\n",
       "    <tr>\n",
       "      <th>0</th>\n",
       "      <td>Show total sales and profit by region.</td>\n",
       "      <td>SELECT Region, SUM(Sales) AS Total_Sales, SUM(...</td>\n",
       "      <td>{'Region': {0: 'Central', 1: 'East', 2: 'South...</td>\n",
       "      <td>results/query_1_20250828_193539.csv</td>\n",
       "      <td>0.56</td>\n",
       "    </tr>\n",
       "    <tr>\n",
       "      <th>1</th>\n",
       "      <td>List the top 10 customers by total sales.</td>\n",
       "      <td>SELECT [Customer Name], SUM(Sales) AS Total_Sa...</td>\n",
       "      <td>{'Customer Name': {0: 'Sean Miller', 1: 'Tamar...</td>\n",
       "      <td>results/query_2_20250828_193539.csv</td>\n",
       "      <td>3.52</td>\n",
       "    </tr>\n",
       "    <tr>\n",
       "      <th>2</th>\n",
       "      <td>Show profitability (profit margin) by product ...</td>\n",
       "      <td>SELECT Category, SUM(Profit)/SUM(Sales) AS Pro...</td>\n",
       "      <td>{'Category': {0: 'Furniture', 1: 'Office Suppl...</td>\n",
       "      <td>results/query_3_20250828_193539.csv</td>\n",
       "      <td>1.07</td>\n",
       "    </tr>\n",
       "    <tr>\n",
       "      <th>3</th>\n",
       "      <td>Show yearly sales totals from 2014 to 2017.</td>\n",
       "      <td>SELECT strftime('%Y', [Order Date]) AS Year, S...</td>\n",
       "      <td>{'Year': {0: '2014', 1: '2015', 2: '2016', 3: ...</td>\n",
       "      <td>results/query_4_20250828_193539.csv</td>\n",
       "      <td>10.95</td>\n",
       "    </tr>\n",
       "    <tr>\n",
       "      <th>4</th>\n",
       "      <td>Analyze how discount levels impact average pro...</td>\n",
       "      <td>SELECT Discount, AVG(Profit) AS Avg_Profit FRO...</td>\n",
       "      <td>{'Discount': {0: 0.0, 1: 0.1, 2: 0.15, 3: 0.2,...</td>\n",
       "      <td>results/query_5_20250828_193539.csv</td>\n",
       "      <td>1.06</td>\n",
       "    </tr>\n",
       "  </tbody>\n",
       "</table>\n",
       "</div>"
      ],
      "text/plain": [
       "                                            NL_Query  \\\n",
       "0             Show total sales and profit by region.   \n",
       "1          List the top 10 customers by total sales.   \n",
       "2  Show profitability (profit margin) by product ...   \n",
       "3        Show yearly sales totals from 2014 to 2017.   \n",
       "4  Analyze how discount levels impact average pro...   \n",
       "\n",
       "                                       Generated_SQL  \\\n",
       "0  SELECT Region, SUM(Sales) AS Total_Sales, SUM(...   \n",
       "1  SELECT [Customer Name], SUM(Sales) AS Total_Sa...   \n",
       "2  SELECT Category, SUM(Profit)/SUM(Sales) AS Pro...   \n",
       "3  SELECT strftime('%Y', [Order Date]) AS Year, S...   \n",
       "4  SELECT Discount, AVG(Profit) AS Avg_Profit FRO...   \n",
       "\n",
       "                            Execution_Result_Preview  \\\n",
       "0  {'Region': {0: 'Central', 1: 'East', 2: 'South...   \n",
       "1  {'Customer Name': {0: 'Sean Miller', 1: 'Tamar...   \n",
       "2  {'Category': {0: 'Furniture', 1: 'Office Suppl...   \n",
       "3  {'Year': {0: '2014', 1: '2015', 2: '2016', 3: ...   \n",
       "4  {'Discount': {0: 0.0, 1: 0.1, 2: 0.15, 3: 0.2,...   \n",
       "\n",
       "                           Result_File  Latency (s)  \n",
       "0  results/query_1_20250828_193539.csv         0.56  \n",
       "1  results/query_2_20250828_193539.csv         3.52  \n",
       "2  results/query_3_20250828_193539.csv         1.07  \n",
       "3  results/query_4_20250828_193539.csv        10.95  \n",
       "4  results/query_5_20250828_193539.csv         1.06  "
      ]
     },
     "metadata": {},
     "output_type": "display_data"
    },
    {
     "data": {
      "text/html": [
       "<a href='results/batch_results_summary_20250828_193539.csv' target='_blank'>results/batch_results_summary_20250828_193539.csv</a><br>"
      ],
      "text/plain": [
       "/home/azureuser/divakar_projects/NN_DL/results/batch_results_summary_20250828_193539.csv"
      ]
     },
     "metadata": {},
     "output_type": "display_data"
    },
    {
     "name": "stdout",
     "output_type": "stream",
     "text": [
      "\n",
      "📂 Individual Query CSV Previews:\n",
      "\n",
      "➡️ Preview of query_4_20250828_193539.csv:\n"
     ]
    },
    {
     "data": {
      "text/html": [
       "<div>\n",
       "<style scoped>\n",
       "    .dataframe tbody tr th:only-of-type {\n",
       "        vertical-align: middle;\n",
       "    }\n",
       "\n",
       "    .dataframe tbody tr th {\n",
       "        vertical-align: top;\n",
       "    }\n",
       "\n",
       "    .dataframe thead th {\n",
       "        text-align: right;\n",
       "    }\n",
       "</style>\n",
       "<table border=\"1\" class=\"dataframe\">\n",
       "  <thead>\n",
       "    <tr style=\"text-align: right;\">\n",
       "      <th></th>\n",
       "      <th>Year</th>\n",
       "      <th>Total_Sales</th>\n",
       "    </tr>\n",
       "  </thead>\n",
       "  <tbody>\n",
       "    <tr>\n",
       "      <th>0</th>\n",
       "      <td>2014</td>\n",
       "      <td>484247.4981</td>\n",
       "    </tr>\n",
       "    <tr>\n",
       "      <th>1</th>\n",
       "      <td>2015</td>\n",
       "      <td>470532.5090</td>\n",
       "    </tr>\n",
       "    <tr>\n",
       "      <th>2</th>\n",
       "      <td>2016</td>\n",
       "      <td>609205.5980</td>\n",
       "    </tr>\n",
       "    <tr>\n",
       "      <th>3</th>\n",
       "      <td>2017</td>\n",
       "      <td>733215.2552</td>\n",
       "    </tr>\n",
       "  </tbody>\n",
       "</table>\n",
       "</div>"
      ],
      "text/plain": [
       "   Year  Total_Sales\n",
       "0  2014  484247.4981\n",
       "1  2015  470532.5090\n",
       "2  2016  609205.5980\n",
       "3  2017  733215.2552"
      ]
     },
     "metadata": {},
     "output_type": "display_data"
    },
    {
     "data": {
      "text/html": [
       "<a href='results/query_4_20250828_193539.csv' target='_blank'>results/query_4_20250828_193539.csv</a><br>"
      ],
      "text/plain": [
       "/home/azureuser/divakar_projects/NN_DL/results/query_4_20250828_193539.csv"
      ]
     },
     "metadata": {},
     "output_type": "display_data"
    },
    {
     "name": "stdout",
     "output_type": "stream",
     "text": [
      "\n",
      "➡️ Preview of query_5_20250828_193232.csv:\n"
     ]
    },
    {
     "data": {
      "text/html": [
       "<div>\n",
       "<style scoped>\n",
       "    .dataframe tbody tr th:only-of-type {\n",
       "        vertical-align: middle;\n",
       "    }\n",
       "\n",
       "    .dataframe tbody tr th {\n",
       "        vertical-align: top;\n",
       "    }\n",
       "\n",
       "    .dataframe thead th {\n",
       "        text-align: right;\n",
       "    }\n",
       "</style>\n",
       "<table border=\"1\" class=\"dataframe\">\n",
       "  <thead>\n",
       "    <tr style=\"text-align: right;\">\n",
       "      <th></th>\n",
       "      <th>Discount</th>\n",
       "      <th>Avg_Profit</th>\n",
       "    </tr>\n",
       "  </thead>\n",
       "  <tbody>\n",
       "    <tr>\n",
       "      <th>0</th>\n",
       "      <td>0.00</td>\n",
       "      <td>66.900292</td>\n",
       "    </tr>\n",
       "    <tr>\n",
       "      <th>1</th>\n",
       "      <td>0.10</td>\n",
       "      <td>96.055074</td>\n",
       "    </tr>\n",
       "    <tr>\n",
       "      <th>2</th>\n",
       "      <td>0.15</td>\n",
       "      <td>27.288298</td>\n",
       "    </tr>\n",
       "    <tr>\n",
       "      <th>3</th>\n",
       "      <td>0.20</td>\n",
       "      <td>24.702572</td>\n",
       "    </tr>\n",
       "    <tr>\n",
       "      <th>4</th>\n",
       "      <td>0.30</td>\n",
       "      <td>-45.679636</td>\n",
       "    </tr>\n",
       "  </tbody>\n",
       "</table>\n",
       "</div>"
      ],
      "text/plain": [
       "   Discount  Avg_Profit\n",
       "0      0.00   66.900292\n",
       "1      0.10   96.055074\n",
       "2      0.15   27.288298\n",
       "3      0.20   24.702572\n",
       "4      0.30  -45.679636"
      ]
     },
     "metadata": {},
     "output_type": "display_data"
    },
    {
     "data": {
      "text/html": [
       "<a href='results/query_5_20250828_193232.csv' target='_blank'>results/query_5_20250828_193232.csv</a><br>"
      ],
      "text/plain": [
       "/home/azureuser/divakar_projects/NN_DL/results/query_5_20250828_193232.csv"
      ]
     },
     "metadata": {},
     "output_type": "display_data"
    },
    {
     "name": "stdout",
     "output_type": "stream",
     "text": [
      "\n",
      "➡️ Preview of query_5_20250828_193539.csv:\n"
     ]
    },
    {
     "data": {
      "text/html": [
       "<div>\n",
       "<style scoped>\n",
       "    .dataframe tbody tr th:only-of-type {\n",
       "        vertical-align: middle;\n",
       "    }\n",
       "\n",
       "    .dataframe tbody tr th {\n",
       "        vertical-align: top;\n",
       "    }\n",
       "\n",
       "    .dataframe thead th {\n",
       "        text-align: right;\n",
       "    }\n",
       "</style>\n",
       "<table border=\"1\" class=\"dataframe\">\n",
       "  <thead>\n",
       "    <tr style=\"text-align: right;\">\n",
       "      <th></th>\n",
       "      <th>Discount</th>\n",
       "      <th>Avg_Profit</th>\n",
       "    </tr>\n",
       "  </thead>\n",
       "  <tbody>\n",
       "    <tr>\n",
       "      <th>0</th>\n",
       "      <td>0.00</td>\n",
       "      <td>66.900292</td>\n",
       "    </tr>\n",
       "    <tr>\n",
       "      <th>1</th>\n",
       "      <td>0.10</td>\n",
       "      <td>96.055074</td>\n",
       "    </tr>\n",
       "    <tr>\n",
       "      <th>2</th>\n",
       "      <td>0.15</td>\n",
       "      <td>27.288298</td>\n",
       "    </tr>\n",
       "    <tr>\n",
       "      <th>3</th>\n",
       "      <td>0.20</td>\n",
       "      <td>24.702572</td>\n",
       "    </tr>\n",
       "    <tr>\n",
       "      <th>4</th>\n",
       "      <td>0.30</td>\n",
       "      <td>-45.679636</td>\n",
       "    </tr>\n",
       "  </tbody>\n",
       "</table>\n",
       "</div>"
      ],
      "text/plain": [
       "   Discount  Avg_Profit\n",
       "0      0.00   66.900292\n",
       "1      0.10   96.055074\n",
       "2      0.15   27.288298\n",
       "3      0.20   24.702572\n",
       "4      0.30  -45.679636"
      ]
     },
     "metadata": {},
     "output_type": "display_data"
    },
    {
     "data": {
      "text/html": [
       "<a href='results/query_5_20250828_193539.csv' target='_blank'>results/query_5_20250828_193539.csv</a><br>"
      ],
      "text/plain": [
       "/home/azureuser/divakar_projects/NN_DL/results/query_5_20250828_193539.csv"
      ]
     },
     "metadata": {},
     "output_type": "display_data"
    },
    {
     "name": "stdout",
     "output_type": "stream",
     "text": [
      "\n",
      "📊 Sales & Profit by Region (from results/region_result_20250828_193539.png)\n"
     ]
    },
    {
     "data": {
      "image/png": "[encoded data removed]",
      "text/plain": [
       "<Figure size 640x480 with 1 Axes>"
      ]
     },
     "metadata": {},
     "output_type": "display_data"
    },
    {
     "data": {
      "text/html": [
       "<a href='results/region_result_20250828_193539.png' target='_blank'>results/region_result_20250828_193539.png</a><br>"
      ],
      "text/plain": [
       "/home/azureuser/divakar_projects/NN_DL/results/region_result_20250828_193539.png"
      ]
     },
     "metadata": {},
     "output_type": "display_data"
    },
    {
     "name": "stdout",
     "output_type": "stream",
     "text": [
      "\n",
      "📊 Yearly Sales (from results/yearly_result_20250828_193539.png)\n"
     ]
    },
    {
     "data": {
      "image/png": "[encoded data removed]",
      "text/plain": [
       "<Figure size 640x480 with 1 Axes>"
      ]
     },
     "metadata": {},
     "output_type": "display_data"
    },
    {
     "data": {
      "text/html": [
       "<a href='results/yearly_result_20250828_193539.png' target='_blank'>results/yearly_result_20250828_193539.png</a><br>"
      ],
      "text/plain": [
       "/home/azureuser/divakar_projects/NN_DL/results/yearly_result_20250828_193539.png"
      ]
     },
     "metadata": {},
     "output_type": "display_data"
    }
   ],
   "source": [
    "#Inline Gallery + CSV Previews + FileLinks\n",
    "\n",
    "import pandas as pd\n",
    "import matplotlib.pyplot as plt\n",
    "import os\n",
    "from IPython.display import FileLink\n",
    "\n",
    "print(\"📊 Quick Results & File Previews\")\n",
    "\n",
    "# 1. Preview latest summary CSV\n",
    "summary_files = sorted([f for f in os.listdir(\"results\") if f.startswith(\"batch_results_summary_\")])\n",
    "if summary_files:\n",
    "    latest_summary = summary_files[-1]\n",
    "    print(f\"\\n📄 Summary Preview ({latest_summary}):\")\n",
    "    summary_df = pd.read_csv(os.path.join(\"results\", latest_summary))\n",
    "    display(summary_df.head())\n",
    "    display(FileLink(os.path.join(\"results\", latest_summary)))\n",
    "else:\n",
    "    print(\"⚠️ No summary CSV found.\")\n",
    "\n",
    "# 2. Preview latest individual query CSVs\n",
    "query_files = sorted([f for f in os.listdir(\"results\") if f.startswith(\"query_\") and f.endswith(\".csv\")])\n",
    "if query_files:\n",
    "    print(\"\\n📂 Individual Query CSV Previews:\")\n",
    "    for f in query_files[-3:]:  # show last 3 queries\n",
    "        print(f\"\\n➡️ Preview of {f}:\")\n",
    "        q_df = pd.read_csv(os.path.join(\"results\", f))\n",
    "        display(q_df.head())\n",
    "        display(FileLink(os.path.join(\"results\", f)))\n",
    "else:\n",
    "    print(\"⚠️ No individual query CSVs found.\")\n",
    "\n",
    "# 3. Show latest Region chart\n",
    "region_charts = sorted([f for f in os.listdir(\"results\") if f.startswith(\"region_result_\")])\n",
    "if region_charts:\n",
    "    latest_region_chart = os.path.join(\"results\", region_charts[-1])\n",
    "    print(f\"\\n📊 Sales & Profit by Region (from {latest_region_chart})\")\n",
    "    img = plt.imread(latest_region_chart)\n",
    "    plt.imshow(img)\n",
    "    plt.axis(\"off\")\n",
    "    plt.show()\n",
    "    display(FileLink(latest_region_chart))\n",
    "\n",
    "# 4. Show latest Yearly chart\n",
    "yearly_charts = sorted([f for f in os.listdir(\"results\") if f.startswith(\"yearly_result_\")])\n",
    "if yearly_charts:\n",
    "    latest_yearly_chart = os.path.join(\"results\", yearly_charts[-1])\n",
    "    print(f\"\\n📊 Yearly Sales (from {latest_yearly_chart})\")\n",
    "    img = plt.imread(latest_yearly_chart)\n",
    "    plt.imshow(img)\n",
    "    plt.axis(\"off\")\n",
    "    plt.show()\n",
    "    display(FileLink(latest_yearly_chart))\n"
   ]
  },
  {
   "cell_type": "code",
   "execution_count": 70,
   "id": "70cf7474-505b-41fc-a7a2-55ceb333609e",
   "metadata": {},
   "outputs": [
    {
     "name": "stdout",
     "output_type": "stream",
     "text": [
      "====================================================================================================\n",
      "📝 NL Query: Show total sales and profit by region.\n",
      "SQL: SELECT Region, SUM(Sales) AS Total_Sales, SUM(Profit) AS Total_Profit FROM superstore GROUP BY Region;\n",
      "====================================================================================================\n",
      "📝 NL Query: List the top 10 customers by total sales.\n",
      "SQL: SELECT [Customer Name], SUM(Sales) AS Total_Sales FROM superstore GROUP BY [Customer Name] ORDER BY Total_Sales DESC LIMIT 10;\n",
      "====================================================================================================\n",
      "📝 NL Query: Show profitability (profit margin) by product category.\n",
      "SQL: SELECT Category, SUM(Profit)/SUM(Sales) AS Profit_Margin FROM superstore GROUP BY Category;\n",
      "====================================================================================================\n",
      "📝 NL Query: Show yearly sales totals from 2014 to 2017.\n",
      "SQL: SELECT strftime('%Y', [Order Date]) AS Year, SUM(Sales) AS Total_Sales FROM superstore GROUP BY Year ORDER BY Year;\n",
      "====================================================================================================\n",
      "📝 NL Query: Analyze how discount levels impact average profit.\n",
      "SQL: SELECT Discount, AVG(Profit) AS Avg_Profit FROM superstore GROUP BY Discount ORDER BY Discount;\n",
      "\n",
      "✅ Batch run completed. Summary saved to results/batch_results_summary_20250828_194615.csv\n",
      "Each query result also exported separately in the results/ folder.\n"
     ]
    }
   ],
   "source": [
    "#Batch Run NL Queries + Export Each Result\n",
    "\n",
    "from datetime import datetime\n",
    "import matplotlib.pyplot as plt\n",
    "\n",
    "# Make sure results folder exists\n",
    "os.makedirs(\"results\", exist_ok=True)\n",
    "\n",
    "# Timestamp for unique exports\n",
    "timestamp = datetime.now().strftime(\"%Y%m%d_%H%M%S\")\n",
    "\n",
    "# Define batch NL queries\n",
    "nl_queries = [\n",
    "    \"Show total sales and profit by region.\",\n",
    "    \"List the top 10 customers by total sales.\",\n",
    "    \"Show profitability (profit margin) by product category.\",\n",
    "    \"Show yearly sales totals from 2014 to 2017.\",\n",
    "    \"Analyze how discount levels impact average profit.\"\n",
    "]\n",
    "\n",
    "batch_results = []\n",
    "\n",
    "for i, q in enumerate(nl_queries, 1):\n",
    "    print(\"=\"*100)\n",
    "    print(\"📝 NL Query:\", q)\n",
    "\n",
    "    sql, latency = hf_nl_to_sql(q)\n",
    "    print(\"SQL:\", sql)\n",
    "\n",
    "    result = run_sql(sql)\n",
    "\n",
    "    # Save individual query result to CSV if it's a DataFrame\n",
    "    if isinstance(result, pd.DataFrame) and not result.empty:\n",
    "        query_csv = f\"results/query_{i}_{timestamp}.csv\"\n",
    "        result.to_csv(query_csv, index=False)\n",
    "        preview = result.head(3).to_dict()  # smaller preview\n",
    "    else:\n",
    "        query_csv = \"ERROR\"\n",
    "        preview = str(result)\n",
    "\n",
    "    # Save summary entry\n",
    "    batch_results.append({\n",
    "        \"NL_Query\": q,\n",
    "        \"Generated_SQL\": sql,\n",
    "        \"Execution_Result_Preview\": preview,\n",
    "        \"Result_File\": query_csv,\n",
    "        \"Latency (s)\": round(latency, 2)\n",
    "    })\n",
    "\n",
    "    # Save chart for region/year queries\n",
    "    if isinstance(result, pd.DataFrame) and not result.empty:\n",
    "        if \"region\" in q.lower():\n",
    "            fig_path = f\"results/region_result_{timestamp}.png\"\n",
    "            result.plot(x=result.columns[0], y=result.columns[1:], kind=\"bar\", figsize=(8,5))\n",
    "            plt.title(q)\n",
    "            plt.savefig(fig_path)\n",
    "            plt.close()\n",
    "\n",
    "        if \"yearly\" in q.lower():\n",
    "            fig_path = f\"results/yearly_result_{timestamp}.png\"\n",
    "            result.plot(x=result.columns[0], y=result.columns[1], kind=\"line\", marker=\"o\", figsize=(8,5))\n",
    "            plt.title(q)\n",
    "            plt.savefig(fig_path)\n",
    "            plt.close()\n",
    "\n",
    "# Export summary CSV\n",
    "summary_csv = f\"results/batch_results_summary_{timestamp}.csv\"\n",
    "pd.DataFrame(batch_results).to_csv(summary_csv, index=False)\n",
    "\n",
    "print(f\"\\n✅ Batch run completed. Summary saved to {summary_csv}\")\n",
    "print(\"Each query result also exported separately in the results/ folder.\")\n"
   ]
  },
  {
   "cell_type": "code",
   "execution_count": 71,
   "id": "45a70b05-f612-4db1-a7ed-74b8b6292134",
   "metadata": {},
   "outputs": [
    {
     "name": "stdout",
     "output_type": "stream",
     "text": [
      "📊 Batch Run Summary Preview\n",
      "\n",
      "Showing batch_results_summary_20250828_194615.csv:\n"
     ]
    },
    {
     "data": {
      "text/html": [
       "<div>\n",
       "<style scoped>\n",
       "    .dataframe tbody tr th:only-of-type {\n",
       "        vertical-align: middle;\n",
       "    }\n",
       "\n",
       "    .dataframe tbody tr th {\n",
       "        vertical-align: top;\n",
       "    }\n",
       "\n",
       "    .dataframe thead th {\n",
       "        text-align: right;\n",
       "    }\n",
       "</style>\n",
       "<table border=\"1\" class=\"dataframe\">\n",
       "  <thead>\n",
       "    <tr style=\"text-align: right;\">\n",
       "      <th></th>\n",
       "      <th>NL_Query</th>\n",
       "      <th>Generated_SQL</th>\n",
       "      <th>Execution_Result_Preview</th>\n",
       "      <th>Result_File</th>\n",
       "      <th>Latency (s)</th>\n",
       "    </tr>\n",
       "  </thead>\n",
       "  <tbody>\n",
       "    <tr>\n",
       "      <th>0</th>\n",
       "      <td>Show total sales and profit by region.</td>\n",
       "      <td>SELECT Region, SUM(Sales) AS Total_Sales, SUM(...</td>\n",
       "      <td>{'Region': {0: 'Central', 1: 'East', 2: 'South...</td>\n",
       "      <td>results/query_1_20250828_194615.csv</td>\n",
       "      <td>0.64</td>\n",
       "    </tr>\n",
       "    <tr>\n",
       "      <th>1</th>\n",
       "      <td>List the top 10 customers by total sales.</td>\n",
       "      <td>SELECT [Customer Name], SUM(Sales) AS Total_Sa...</td>\n",
       "      <td>{'Customer Name': {0: 'Sean Miller', 1: 'Tamar...</td>\n",
       "      <td>results/query_2_20250828_194615.csv</td>\n",
       "      <td>3.86</td>\n",
       "    </tr>\n",
       "    <tr>\n",
       "      <th>2</th>\n",
       "      <td>Show profitability (profit margin) by product ...</td>\n",
       "      <td>SELECT Category, SUM(Profit)/SUM(Sales) AS Pro...</td>\n",
       "      <td>{'Category': {0: 'Furniture', 1: 'Office Suppl...</td>\n",
       "      <td>results/query_3_20250828_194615.csv</td>\n",
       "      <td>1.06</td>\n",
       "    </tr>\n",
       "    <tr>\n",
       "      <th>3</th>\n",
       "      <td>Show yearly sales totals from 2014 to 2017.</td>\n",
       "      <td>SELECT strftime('%Y', [Order Date]) AS Year, S...</td>\n",
       "      <td>{'Year': {0: '2014', 1: '2015', 2: '2016'}, 'T...</td>\n",
       "      <td>results/query_4_20250828_194615.csv</td>\n",
       "      <td>3.35</td>\n",
       "    </tr>\n",
       "    <tr>\n",
       "      <th>4</th>\n",
       "      <td>Analyze how discount levels impact average pro...</td>\n",
       "      <td>SELECT Discount, AVG(Profit) AS Avg_Profit FRO...</td>\n",
       "      <td>{'Discount': {0: 0.0, 1: 0.1, 2: 0.15}, 'Avg_P...</td>\n",
       "      <td>results/query_5_20250828_194615.csv</td>\n",
       "      <td>0.90</td>\n",
       "    </tr>\n",
       "  </tbody>\n",
       "</table>\n",
       "</div>"
      ],
      "text/plain": [
       "                                            NL_Query  \\\n",
       "0             Show total sales and profit by region.   \n",
       "1          List the top 10 customers by total sales.   \n",
       "2  Show profitability (profit margin) by product ...   \n",
       "3        Show yearly sales totals from 2014 to 2017.   \n",
       "4  Analyze how discount levels impact average pro...   \n",
       "\n",
       "                                       Generated_SQL  \\\n",
       "0  SELECT Region, SUM(Sales) AS Total_Sales, SUM(...   \n",
       "1  SELECT [Customer Name], SUM(Sales) AS Total_Sa...   \n",
       "2  SELECT Category, SUM(Profit)/SUM(Sales) AS Pro...   \n",
       "3  SELECT strftime('%Y', [Order Date]) AS Year, S...   \n",
       "4  SELECT Discount, AVG(Profit) AS Avg_Profit FRO...   \n",
       "\n",
       "                            Execution_Result_Preview  \\\n",
       "0  {'Region': {0: 'Central', 1: 'East', 2: 'South...   \n",
       "1  {'Customer Name': {0: 'Sean Miller', 1: 'Tamar...   \n",
       "2  {'Category': {0: 'Furniture', 1: 'Office Suppl...   \n",
       "3  {'Year': {0: '2014', 1: '2015', 2: '2016'}, 'T...   \n",
       "4  {'Discount': {0: 0.0, 1: 0.1, 2: 0.15}, 'Avg_P...   \n",
       "\n",
       "                           Result_File  Latency (s)  \n",
       "0  results/query_1_20250828_194615.csv         0.64  \n",
       "1  results/query_2_20250828_194615.csv         3.86  \n",
       "2  results/query_3_20250828_194615.csv         1.06  \n",
       "3  results/query_4_20250828_194615.csv         3.35  \n",
       "4  results/query_5_20250828_194615.csv         0.90  "
      ]
     },
     "metadata": {},
     "output_type": "display_data"
    },
    {
     "data": {
      "text/html": [
       "<a href='results/batch_results_summary_20250828_194615.csv' target='_blank'>results/batch_results_summary_20250828_194615.csv</a><br>"
      ],
      "text/plain": [
       "/home/azureuser/divakar_projects/NN_DL/results/batch_results_summary_20250828_194615.csv"
      ]
     },
     "metadata": {},
     "output_type": "display_data"
    }
   ],
   "source": [
    "#Preview + Download Batch Summary\n",
    "\n",
    "import pandas as pd\n",
    "import os\n",
    "from IPython.display import FileLink\n",
    "\n",
    "print(\"📊 Batch Run Summary Preview\")\n",
    "\n",
    "# Find latest summary CSV\n",
    "summary_files = sorted([f for f in os.listdir(\"results\") if f.startswith(\"batch_results_summary_\")])\n",
    "if summary_files:\n",
    "    latest_summary = summary_files[-1]\n",
    "    latest_path = os.path.join(\"results\", latest_summary)\n",
    "    print(f\"\\nShowing {latest_summary}:\")\n",
    "    \n",
    "    # Preview first 5 rows\n",
    "    df_summary = pd.read_csv(latest_path)\n",
    "    display(df_summary.head())\n",
    "    \n",
    "    # Download link\n",
    "    display(FileLink(latest_path))\n",
    "else:\n",
    "    print(\"⚠️ No summary CSV found in results folder.\")\n"
   ]
  },
  {
   "cell_type": "code",
   "execution_count": null,
   "id": "d9fb2612-93c0-4a0a-9044-7bb015f80b16",
   "metadata": {},
   "outputs": [],
   "source": []
  }
 ],
 "metadata": {
  "kernelspec": {
   "display_name": "Python (myenv)",
   "language": "python",
   "name": "myenv"
  },
  "language_info": {
   "codemirror_mode": {
    "name": "ipython",
    "version": 3
   },
   "file_extension": ".py",
   "mimetype": "text/x-python",
   "name": "python",
   "nbconvert_exporter": "python",
   "pygments_lexer": "ipython3",
   "version": "3.12.3"
  }
 },
 "nbformat": 4,
 "nbformat_minor": 5
}
